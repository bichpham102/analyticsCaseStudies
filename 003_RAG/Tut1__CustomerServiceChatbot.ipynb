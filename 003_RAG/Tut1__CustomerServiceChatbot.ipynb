{
 "cells": [
  {
   "cell_type": "markdown",
   "metadata": {},
   "source": [
    "Tut1: A Customer Service Q&A \n",
    "\n",
    "> Traditionally, chatbot were bult for specific user intents, formed from sets of sample questions and their corresponding answers like a matching game. \n",
    "\n",
    "> The advent of LLMs significantly enhance chatbot functionality by linking broader intents with documents from a Knowledge Base (KB). \n"
   ]
  },
  {
   "cell_type": "markdown",
   "metadata": {},
   "source": [
    "![Buiding CS Chatbot Process](images/build_cs_chatbot_process.png)"
   ]
  },
  {
   "cell_type": "markdown",
   "metadata": {},
   "source": [
    "### 0. Setup"
   ]
  },
  {
   "cell_type": "code",
   "execution_count": 1,
   "metadata": {},
   "outputs": [
    {
     "name": "stdout",
     "output_type": "stream",
     "text": [
      "Requirement already satisfied: unstructured in /usr/local/python/3.12.1/lib/python3.12/site-packages (0.15.13)\n",
      "Requirement already satisfied: selenium in /usr/local/python/3.12.1/lib/python3.12/site-packages (4.25.0)\n",
      "Requirement already satisfied: chardet in /usr/local/python/3.12.1/lib/python3.12/site-packages (from unstructured) (5.2.0)\n",
      "Requirement already satisfied: filetype in /usr/local/python/3.12.1/lib/python3.12/site-packages (from unstructured) (1.2.0)\n",
      "Requirement already satisfied: python-magic in /usr/local/python/3.12.1/lib/python3.12/site-packages (from unstructured) (0.4.27)\n",
      "Requirement already satisfied: lxml in /usr/local/python/3.12.1/lib/python3.12/site-packages (from unstructured) (5.3.0)\n",
      "Requirement already satisfied: nltk in /usr/local/python/3.12.1/lib/python3.12/site-packages (from unstructured) (3.9.1)\n",
      "Requirement already satisfied: tabulate in /usr/local/python/3.12.1/lib/python3.12/site-packages (from unstructured) (0.9.0)\n",
      "Requirement already satisfied: requests in /home/codespace/.local/lib/python3.12/site-packages (from unstructured) (2.32.3)\n",
      "Requirement already satisfied: beautifulsoup4 in /home/codespace/.local/lib/python3.12/site-packages (from unstructured) (4.12.3)\n",
      "Requirement already satisfied: emoji in /usr/local/python/3.12.1/lib/python3.12/site-packages (from unstructured) (2.13.0)\n",
      "Requirement already satisfied: dataclasses-json in /usr/local/python/3.12.1/lib/python3.12/site-packages (from unstructured) (0.6.7)\n",
      "Requirement already satisfied: python-iso639 in /usr/local/python/3.12.1/lib/python3.12/site-packages (from unstructured) (2024.4.27)\n",
      "Requirement already satisfied: langdetect in /usr/local/python/3.12.1/lib/python3.12/site-packages (from unstructured) (1.0.9)\n",
      "Requirement already satisfied: numpy<2 in /usr/local/python/3.12.1/lib/python3.12/site-packages (from unstructured) (1.26.4)\n",
      "Requirement already satisfied: rapidfuzz in /usr/local/python/3.12.1/lib/python3.12/site-packages (from unstructured) (3.9.7)\n",
      "Requirement already satisfied: backoff in /usr/local/python/3.12.1/lib/python3.12/site-packages (from unstructured) (2.2.1)\n",
      "Requirement already satisfied: typing-extensions in /home/codespace/.local/lib/python3.12/site-packages (from unstructured) (4.9.0)\n",
      "Requirement already satisfied: unstructured-client in /usr/local/python/3.12.1/lib/python3.12/site-packages (from unstructured) (0.25.9)\n",
      "Requirement already satisfied: wrapt in /usr/local/python/3.12.1/lib/python3.12/site-packages (from unstructured) (1.16.0)\n",
      "Requirement already satisfied: tqdm in /usr/local/python/3.12.1/lib/python3.12/site-packages (from unstructured) (4.66.5)\n",
      "Requirement already satisfied: psutil in /home/codespace/.local/lib/python3.12/site-packages (from unstructured) (6.0.0)\n",
      "Requirement already satisfied: python-oxmsg in /usr/local/python/3.12.1/lib/python3.12/site-packages (from unstructured) (0.0.1)\n",
      "Requirement already satisfied: urllib3<3,>=1.26 in /home/codespace/.local/lib/python3.12/site-packages (from urllib3[socks]<3,>=1.26->selenium) (2.2.2)\n",
      "Requirement already satisfied: trio~=0.17 in /usr/local/python/3.12.1/lib/python3.12/site-packages (from selenium) (0.26.2)\n",
      "Requirement already satisfied: trio-websocket~=0.9 in /usr/local/python/3.12.1/lib/python3.12/site-packages (from selenium) (0.11.1)\n",
      "Requirement already satisfied: certifi>=2021.10.8 in /home/codespace/.local/lib/python3.12/site-packages (from selenium) (2024.7.4)\n",
      "Requirement already satisfied: websocket-client~=1.8 in /home/codespace/.local/lib/python3.12/site-packages (from selenium) (1.8.0)\n",
      "Requirement already satisfied: attrs>=23.2.0 in /home/codespace/.local/lib/python3.12/site-packages (from trio~=0.17->selenium) (24.2.0)\n",
      "Requirement already satisfied: sortedcontainers in /usr/local/python/3.12.1/lib/python3.12/site-packages (from trio~=0.17->selenium) (2.4.0)\n",
      "Requirement already satisfied: idna in /home/codespace/.local/lib/python3.12/site-packages (from trio~=0.17->selenium) (3.7)\n",
      "Requirement already satisfied: outcome in /usr/local/python/3.12.1/lib/python3.12/site-packages (from trio~=0.17->selenium) (1.3.0.post0)\n",
      "Requirement already satisfied: sniffio>=1.3.0 in /home/codespace/.local/lib/python3.12/site-packages (from trio~=0.17->selenium) (1.3.1)\n",
      "Requirement already satisfied: wsproto>=0.14 in /usr/local/python/3.12.1/lib/python3.12/site-packages (from trio-websocket~=0.9->selenium) (1.2.0)\n",
      "Requirement already satisfied: pysocks!=1.5.7,<2.0,>=1.5.6 in /usr/local/python/3.12.1/lib/python3.12/site-packages (from urllib3[socks]<3,>=1.26->selenium) (1.7.1)\n",
      "Requirement already satisfied: soupsieve>1.2 in /home/codespace/.local/lib/python3.12/site-packages (from beautifulsoup4->unstructured) (2.6)\n",
      "Requirement already satisfied: marshmallow<4.0.0,>=3.18.0 in /usr/local/python/3.12.1/lib/python3.12/site-packages (from dataclasses-json->unstructured) (3.22.0)\n",
      "Requirement already satisfied: typing-inspect<1,>=0.4.0 in /usr/local/python/3.12.1/lib/python3.12/site-packages (from dataclasses-json->unstructured) (0.9.0)\n",
      "Requirement already satisfied: six in /home/codespace/.local/lib/python3.12/site-packages (from langdetect->unstructured) (1.16.0)\n",
      "Requirement already satisfied: click in /usr/local/python/3.12.1/lib/python3.12/site-packages (from nltk->unstructured) (8.1.7)\n",
      "Requirement already satisfied: joblib in /home/codespace/.local/lib/python3.12/site-packages (from nltk->unstructured) (1.4.2)\n",
      "Requirement already satisfied: regex>=2021.8.3 in /usr/local/python/3.12.1/lib/python3.12/site-packages (from nltk->unstructured) (2024.9.11)\n",
      "Requirement already satisfied: olefile in /usr/local/python/3.12.1/lib/python3.12/site-packages (from python-oxmsg->unstructured) (0.47)\n",
      "Requirement already satisfied: charset-normalizer<4,>=2 in /home/codespace/.local/lib/python3.12/site-packages (from requests->unstructured) (3.3.2)\n",
      "Requirement already satisfied: cryptography>=3.1 in /usr/local/python/3.12.1/lib/python3.12/site-packages (from unstructured-client->unstructured) (43.0.1)\n",
      "Requirement already satisfied: deepdiff>=6.0 in /usr/local/python/3.12.1/lib/python3.12/site-packages (from unstructured-client->unstructured) (8.0.1)\n",
      "Requirement already satisfied: httpx>=0.27.0 in /home/codespace/.local/lib/python3.12/site-packages (from unstructured-client->unstructured) (0.27.0)\n",
      "Requirement already satisfied: jsonpath-python>=1.0.6 in /usr/local/python/3.12.1/lib/python3.12/site-packages (from unstructured-client->unstructured) (1.0.6)\n",
      "Requirement already satisfied: mypy-extensions>=1.0.0 in /usr/local/python/3.12.1/lib/python3.12/site-packages (from unstructured-client->unstructured) (1.0.0)\n",
      "Requirement already satisfied: nest-asyncio>=1.6.0 in /home/codespace/.local/lib/python3.12/site-packages (from unstructured-client->unstructured) (1.6.0)\n",
      "Requirement already satisfied: packaging>=23.1 in /home/codespace/.local/lib/python3.12/site-packages (from unstructured-client->unstructured) (24.1)\n",
      "Requirement already satisfied: pypdf>=4.0 in /usr/local/python/3.12.1/lib/python3.12/site-packages (from unstructured-client->unstructured) (5.0.0)\n",
      "Requirement already satisfied: python-dateutil>=2.8.2 in /home/codespace/.local/lib/python3.12/site-packages (from unstructured-client->unstructured) (2.9.0.post0)\n",
      "Requirement already satisfied: requests-toolbelt>=1.0.0 in /usr/local/python/3.12.1/lib/python3.12/site-packages (from unstructured-client->unstructured) (1.0.0)\n",
      "Requirement already satisfied: cffi>=1.12 in /home/codespace/.local/lib/python3.12/site-packages (from cryptography>=3.1->unstructured-client->unstructured) (1.17.0)\n",
      "Requirement already satisfied: orderly-set==5.2.2 in /usr/local/python/3.12.1/lib/python3.12/site-packages (from deepdiff>=6.0->unstructured-client->unstructured) (5.2.2)\n",
      "Requirement already satisfied: anyio in /home/codespace/.local/lib/python3.12/site-packages (from httpx>=0.27.0->unstructured-client->unstructured) (4.4.0)\n",
      "Requirement already satisfied: httpcore==1.* in /home/codespace/.local/lib/python3.12/site-packages (from httpx>=0.27.0->unstructured-client->unstructured) (1.0.5)\n",
      "Requirement already satisfied: h11<0.15,>=0.13 in /home/codespace/.local/lib/python3.12/site-packages (from httpcore==1.*->httpx>=0.27.0->unstructured-client->unstructured) (0.14.0)\n",
      "Requirement already satisfied: pycparser in /home/codespace/.local/lib/python3.12/site-packages (from cffi>=1.12->cryptography>=3.1->unstructured-client->unstructured) (2.22)\n"
     ]
    }
   ],
   "source": [
    "# We'll use SeleniumURLLoader, which relies on the unstructured and selenium Python libraries\n",
    "!pip install unstructured selenium "
   ]
  },
  {
   "cell_type": "code",
   "execution_count": 2,
   "metadata": {},
   "outputs": [],
   "source": [
    "from langchain.document_loaders import SeleniumURLLoader\n",
    "from langchain.text_splitter import CharacterTextSplitter \n",
    "from langchain.embeddings.openai import OpenAIEmbeddings \n",
    "from langchain.vectorstores import DeepLake  \n",
    "from langchain.chat_models import ChatOpenAI \n",
    "from langchain import PromptTemplate "
   ]
  },
  {
   "cell_type": "markdown",
   "metadata": {},
   "source": [
    "### 1. `Load` (Scrape) data using SeleniumURLLoader"
   ]
  },
  {
   "cell_type": "code",
   "execution_count": 3,
   "metadata": {},
   "outputs": [],
   "source": [
    "urls = ['https://beebom.com/what-is-nft-explained/',\n",
    "        'https://beebom.com/how-delete-spotify-account/',\n",
    "        'https://beebom.com/how-download-gif-twitter/',\n",
    "        'https://beebom.com/how-use-chatgpt-linux-terminal/',\n",
    "        'https://beebom.com/how-delete-spotify-account/',\n",
    "        'https://beebom.com/how-save-instagram-story-with-music/',\n",
    "        'https://beebom.com/how-install-pip-windows/',\n",
    "        'https://beebom.com/how-check-disk-usage-linux/']"
   ]
  },
  {
   "cell_type": "code",
   "execution_count": 4,
   "metadata": {},
   "outputs": [],
   "source": [
    "loader = SeleniumURLLoader(urls=urls)\n",
    "docs_not_splitted = loader.load()"
   ]
  },
  {
   "cell_type": "markdown",
   "metadata": {},
   "source": [
    "### 2. `Split` to chunks"
   ]
  },
  {
   "cell_type": "code",
   "execution_count": 5,
   "metadata": {},
   "outputs": [],
   "source": [
    "text_splitter = CharacterTextSplitter(chunk_size=1000, chunk_overlap=0)\n",
    "docs = text_splitter.split_documents(docs_not_splitted)"
   ]
  },
  {
   "cell_type": "markdown",
   "metadata": {},
   "source": [
    "### 3. `Embed` & `Store` in Deep Lake"
   ]
  },
  {
   "cell_type": "code",
   "execution_count": 6,
   "metadata": {},
   "outputs": [
    {
     "name": "stdout",
     "output_type": "stream",
     "text": [
      "Your Deep Lake dataset has been successfully created!\n"
     ]
    },
    {
     "name": "stderr",
     "output_type": "stream",
     "text": [
      "Creating 105 embeddings in 1 batches of size 105:: 100%|██████████| 1/1 [00:23<00:00, 23.27s/it]"
     ]
    },
    {
     "name": "stdout",
     "output_type": "stream",
     "text": [
      "Dataset(path='hub://bichpham102/langchain_course_customer_support', tensors=['text', 'metadata', 'embedding', 'id'])\n",
      "\n",
      "  tensor      htype       shape      dtype  compression\n",
      "  -------    -------     -------    -------  ------- \n",
      "   text       text      (105, 1)      str     None   \n",
      " metadata     json      (105, 1)      str     None   \n",
      " embedding  embedding  (105, 1536)  float32   None   \n",
      "    id        text      (105, 1)      str     None   \n"
     ]
    },
    {
     "name": "stderr",
     "output_type": "stream",
     "text": [
      "\n"
     ]
    },
    {
     "data": {
      "text/plain": [
       "['0879cd5c-79c1-11ef-9798-0022485ac518',\n",
       " '0879cf0a-79c1-11ef-9798-0022485ac518',\n",
       " '0879d00e-79c1-11ef-9798-0022485ac518',\n",
       " '0879d0e0-79c1-11ef-9798-0022485ac518',\n",
       " '0879d1a8-79c1-11ef-9798-0022485ac518',\n",
       " '0879d270-79c1-11ef-9798-0022485ac518',\n",
       " '0879d32e-79c1-11ef-9798-0022485ac518',\n",
       " '0879d3f6-79c1-11ef-9798-0022485ac518',\n",
       " '0879d4b4-79c1-11ef-9798-0022485ac518',\n",
       " '0879d57c-79c1-11ef-9798-0022485ac518',\n",
       " '0879d63a-79c1-11ef-9798-0022485ac518',\n",
       " '0879d716-79c1-11ef-9798-0022485ac518',\n",
       " '0879d7e8-79c1-11ef-9798-0022485ac518',\n",
       " '0879d8c4-79c1-11ef-9798-0022485ac518',\n",
       " '0879d996-79c1-11ef-9798-0022485ac518',\n",
       " '0879da5e-79c1-11ef-9798-0022485ac518',\n",
       " '0879db30-79c1-11ef-9798-0022485ac518',\n",
       " '0879dbf8-79c1-11ef-9798-0022485ac518',\n",
       " '0879dcca-79c1-11ef-9798-0022485ac518',\n",
       " '0879dd88-79c1-11ef-9798-0022485ac518',\n",
       " '0879de46-79c1-11ef-9798-0022485ac518',\n",
       " '0879df0e-79c1-11ef-9798-0022485ac518',\n",
       " '0879dfd6-79c1-11ef-9798-0022485ac518',\n",
       " '0879e094-79c1-11ef-9798-0022485ac518',\n",
       " '0879e152-79c1-11ef-9798-0022485ac518',\n",
       " '0879e21a-79c1-11ef-9798-0022485ac518',\n",
       " '0879e2e2-79c1-11ef-9798-0022485ac518',\n",
       " '0879e3aa-79c1-11ef-9798-0022485ac518',\n",
       " '0879e472-79c1-11ef-9798-0022485ac518',\n",
       " '0879e53a-79c1-11ef-9798-0022485ac518',\n",
       " '0879e602-79c1-11ef-9798-0022485ac518',\n",
       " '0879e6c0-79c1-11ef-9798-0022485ac518',\n",
       " '0879e788-79c1-11ef-9798-0022485ac518',\n",
       " '0879e850-79c1-11ef-9798-0022485ac518',\n",
       " '0879e90e-79c1-11ef-9798-0022485ac518',\n",
       " '0879e9d6-79c1-11ef-9798-0022485ac518',\n",
       " '0879ea9e-79c1-11ef-9798-0022485ac518',\n",
       " '0879eb70-79c1-11ef-9798-0022485ac518',\n",
       " '0879ec2e-79c1-11ef-9798-0022485ac518',\n",
       " '0879ecec-79c1-11ef-9798-0022485ac518',\n",
       " '0879edb4-79c1-11ef-9798-0022485ac518',\n",
       " '0879ee72-79c1-11ef-9798-0022485ac518',\n",
       " '0879ef30-79c1-11ef-9798-0022485ac518',\n",
       " '0879efe4-79c1-11ef-9798-0022485ac518',\n",
       " '0879f0ac-79c1-11ef-9798-0022485ac518',\n",
       " '0879f174-79c1-11ef-9798-0022485ac518',\n",
       " '0879f228-79c1-11ef-9798-0022485ac518',\n",
       " '0879f2e6-79c1-11ef-9798-0022485ac518',\n",
       " '0879f3a4-79c1-11ef-9798-0022485ac518',\n",
       " '0879f476-79c1-11ef-9798-0022485ac518',\n",
       " '0879f52a-79c1-11ef-9798-0022485ac518',\n",
       " '0879f5de-79c1-11ef-9798-0022485ac518',\n",
       " '0879f6a6-79c1-11ef-9798-0022485ac518',\n",
       " '0879f76e-79c1-11ef-9798-0022485ac518',\n",
       " '0879f82c-79c1-11ef-9798-0022485ac518',\n",
       " '0879f8ea-79c1-11ef-9798-0022485ac518',\n",
       " '0879f9a8-79c1-11ef-9798-0022485ac518',\n",
       " '0879fa7a-79c1-11ef-9798-0022485ac518',\n",
       " '0879fb38-79c1-11ef-9798-0022485ac518',\n",
       " '0879fbec-79c1-11ef-9798-0022485ac518',\n",
       " '0879fcaa-79c1-11ef-9798-0022485ac518',\n",
       " '0879fd72-79c1-11ef-9798-0022485ac518',\n",
       " '0879fe30-79c1-11ef-9798-0022485ac518',\n",
       " '0879feee-79c1-11ef-9798-0022485ac518',\n",
       " '0879ffb6-79c1-11ef-9798-0022485ac518',\n",
       " '087a007e-79c1-11ef-9798-0022485ac518',\n",
       " '087a0132-79c1-11ef-9798-0022485ac518',\n",
       " '087a01f0-79c1-11ef-9798-0022485ac518',\n",
       " '087a02b8-79c1-11ef-9798-0022485ac518',\n",
       " '087a0380-79c1-11ef-9798-0022485ac518',\n",
       " '087a043e-79c1-11ef-9798-0022485ac518',\n",
       " '087a04f2-79c1-11ef-9798-0022485ac518',\n",
       " '087a05ba-79c1-11ef-9798-0022485ac518',\n",
       " '087a0678-79c1-11ef-9798-0022485ac518',\n",
       " '087a072c-79c1-11ef-9798-0022485ac518',\n",
       " '087a07ea-79c1-11ef-9798-0022485ac518',\n",
       " '087a08b2-79c1-11ef-9798-0022485ac518',\n",
       " '087a097a-79c1-11ef-9798-0022485ac518',\n",
       " '087a0a2e-79c1-11ef-9798-0022485ac518',\n",
       " '087a0b28-79c1-11ef-9798-0022485ac518',\n",
       " '087a0bf0-79c1-11ef-9798-0022485ac518',\n",
       " '087a0cb8-79c1-11ef-9798-0022485ac518',\n",
       " '087a0d80-79c1-11ef-9798-0022485ac518',\n",
       " '087a0e52-79c1-11ef-9798-0022485ac518',\n",
       " '087a0f10-79c1-11ef-9798-0022485ac518',\n",
       " '087a10d2-79c1-11ef-9798-0022485ac518',\n",
       " '087a121c-79c1-11ef-9798-0022485ac518',\n",
       " '087a12e4-79c1-11ef-9798-0022485ac518',\n",
       " '087a13b6-79c1-11ef-9798-0022485ac518',\n",
       " '087a147e-79c1-11ef-9798-0022485ac518',\n",
       " '087a153c-79c1-11ef-9798-0022485ac518',\n",
       " '087a15f0-79c1-11ef-9798-0022485ac518',\n",
       " '087a16ae-79c1-11ef-9798-0022485ac518',\n",
       " '087a1780-79c1-11ef-9798-0022485ac518',\n",
       " '087a1834-79c1-11ef-9798-0022485ac518',\n",
       " '087a18e8-79c1-11ef-9798-0022485ac518',\n",
       " '087a19b0-79c1-11ef-9798-0022485ac518',\n",
       " '087a1a6e-79c1-11ef-9798-0022485ac518',\n",
       " '087a1b2c-79c1-11ef-9798-0022485ac518',\n",
       " '087a1be0-79c1-11ef-9798-0022485ac518',\n",
       " '087a1ca8-79c1-11ef-9798-0022485ac518',\n",
       " '087a1d66-79c1-11ef-9798-0022485ac518',\n",
       " '087a1e24-79c1-11ef-9798-0022485ac518',\n",
       " '087a1ed8-79c1-11ef-9798-0022485ac518',\n",
       " '087a1fa0-79c1-11ef-9798-0022485ac518']"
      ]
     },
     "execution_count": 6,
     "metadata": {},
     "output_type": "execute_result"
    }
   ],
   "source": [
    "# create an instance of OpenAIEmbeddings\n",
    "embeddings = OpenAIEmbeddings(model=\"text-embedding-ada-002\") \n",
    "\n",
    "my_activelopp_org_id = 'bichpham102'\n",
    "my_activelopp_dataset_name = 'langchain_course_customer_support'\n",
    "dataset_path = f'hub://{my_activelopp_org_id}/{my_activelopp_dataset_name}'\n",
    "# Initializes a connection to the Deep Lake dataset, using the path and an embedding function for processing the dataset.\n",
    "db = DeepLake(dataset_path=dataset_path \n",
    "             ,embedding_function = embeddings) \n",
    "\n",
    "# add documents to the Deep Lake dataset \n",
    "db.add_documents(docs)"
   ]
  },
  {
   "cell_type": "markdown",
   "metadata": {},
   "source": [
    "### 4. A user’s query `retrieves` the most relevant segments from Deep Lake"
   ]
  },
  {
   "cell_type": "code",
   "execution_count": 7,
   "metadata": {},
   "outputs": [
    {
     "name": "stdout",
     "output_type": "stream",
     "text": [
      "4\n",
      "Home > Tech > How to Check Disk Usage in Linux (4 Methods)\n",
      "\n",
      "How to Check Disk Usage in Linux (4 Methods)\n",
      "\n",
      "Beebom Staff\n",
      "\n",
      "Updated: December 19, 2023\n",
      "\n",
      "Comments 0\n",
      "\n",
      "Share\n",
      "\n",
      "Copied\n",
      "\n",
      "There may be times when you need to download some important files or transfer some photos to your Linux system, but face a problem of insufficient disk space. You head over to your file manager to delete the large files which you no longer require, but you have no clue which of them are occupying most of your disk space. In this article, we will show some easy methods to check disk usage in Linux from both the terminal and the GUI application.\n",
      "\n",
      "Table of Contents\n",
      "\n",
      "Check Disk Space Using the df Command\n",
      "\n",
      "In Linux, there are many commands to check disk usage, the most common being the df command. The df stands for “Disk Filesystem” in the command, which is a handy way to check the current disk usage and the available disk space in Linux. The syntax for the df command in Linux is as follows:\n",
      "\n",
      "df <options> <file_system>\n"
     ]
    }
   ],
   "source": [
    "# demo similarity search \n",
    "query = 'how to check disk usage in linux?'\n",
    "docs = db.similarity_search(query) \n",
    "print(len(docs))    \n",
    "print(docs[0].page_content)"
   ]
  },
  {
   "cell_type": "markdown",
   "metadata": {},
   "source": [
    "### 5. `Prompt` "
   ]
  },
  {
   "cell_type": "code",
   "execution_count": 8,
   "metadata": {},
   "outputs": [],
   "source": [
    "# let's write a prompt for a customer support chatbot that\n",
    "# answer questions using information extracted from our db\n",
    "template = \"\"\"You are an exceptional customer support chatbot that gently answer questions.\n",
    "\n",
    "You know the following context information.\n",
    "\n",
    "{chunks_formatted}\n",
    "\n",
    "Answer to the following question from a customer. Use only information from the previous context information. Do not invent stuff.\n",
    "\n",
    "Question: {query}\n",
    "\n",
    "Answer:\"\"\"\n",
    "\n",
    "prompt = PromptTemplate(\n",
    "    input_variables=[\"chunks_formatted\", \"query\"],\n",
    "    template=template,\n",
    ")"
   ]
  },
  {
   "cell_type": "markdown",
   "metadata": {},
   "source": [
    "The Full Pipeline"
   ]
  },
  {
   "cell_type": "code",
   "execution_count": 10,
   "metadata": {},
   "outputs": [],
   "source": [
    "query = \"How to check disk usage in linux?\"\n",
    "\n",
    "# retrieve \n",
    "docs = db.similarity_search(query) \n",
    "retrieved_chunks = [doc.page_content for doc in docs]\n",
    "\n",
    "# format the prompt based on template above \n",
    "chunks_formatted = '\\n\\n'.join(retrieved_chunks)\n",
    "prompt_formatted = prompt.format(chunks_formatted = chunks_formatted \n",
    "                                ,query = query)\n"
   ]
  },
  {
   "cell_type": "code",
   "execution_count": 16,
   "metadata": {},
   "outputs": [
    {
     "name": "stdout",
     "output_type": "stream",
     "text": [
      "To check disk usage in Linux, you can use the df command in the terminal. The df command stands for \"Disk Filesystem\" and is a handy way to check the current disk usage and available disk space in Linux. Additionally, you can also use GUI tools like the GDU Disk Usage Analyzer and the Gnome Disks Tool to monitor disk usage in a more user-friendly way.\n"
     ]
    }
   ],
   "source": [
    "# generate answer \n",
    "llm = ChatOpenAI(model_name='gpt-3.5-turbo', temperature=0)  # temperature is a hyperparameter that controls the randomness of the output, temperature=0 means deterministic output\n",
    "answer = llm.predict(prompt_formatted) \n",
    "print(answer)"
   ]
  }
 ],
 "metadata": {
  "language_info": {
   "name": "python"
  }
 },
 "nbformat": 4,
 "nbformat_minor": 2
}
